{
  "cells": [
    {
      "cell_type": "markdown",
      "metadata": {
        "id": "Tce3stUlHN0L"
      },
      "source": [
        "##### Copyright 2022 The TensorFlow Authors."
      ]
    },
    {
      "cell_type": "code",
      "execution_count": null,
      "metadata": {
        "id": "tuOe1ymfHZPu"
      },
      "outputs": [],
      "source": [
        "#@title Licensed under the Apache License, Version 2.0 (the \"License\");\n",
        "# you may not use this file except in compliance with the License.\n",
        "# You may obtain a copy of the License at\n",
        "#\n",
        "# https://www.apache.org/licenses/LICENSE-2.0\n",
        "#\n",
        "# Unless required by applicable law or agreed to in writing, software\n",
        "# distributed under the License is distributed on an \"AS IS\" BASIS,\n",
        "# WITHOUT WARRANTIES OR CONDITIONS OF ANY KIND, either express or implied.\n",
        "# See the License for the specific language governing permissions and\n",
        "# limitations under the License."
      ]
    },
    {
      "cell_type": "markdown",
      "metadata": {
        "id": "qFdPvlXBOdUN"
      },
      "source": [
        "# TensorFlow 2 TPUEmbeddingLayer: Quick Start"
      ]
    },
    {
      "cell_type": "markdown",
      "metadata": {
        "id": "MfBg1C5NB3X0"
      },
      "source": [
        "\u003ctable class=\"tfo-notebook-buttons\" align=\"left\"\u003e\n",
        "  \u003ctd\u003e\n",
        "    \u003ca target=\"_blank\" href=\"https://www.tensorflow.org/recommenders/examples/tpu_embedding_layer\"\u003e\u003cimg src=\"https://www.tensorflow.org/images/tf_logo_32px.png\" /\u003eView on TensorFlow.org\u003c/a\u003e\n",
        "  \u003c/td\u003e\n",
        "  \u003ctd\u003e\n",
        "    \u003ca target=\"_blank\" href=\"https://colab.research.google.com/github/tensorflow/recommenders/blob/main/docs/examples/tpu_embedding_layer.ipynb\"\u003e\u003cimg src=\"https://www.tensorflow.org/images/colab_logo_32px.png\" /\u003eRun in Google Colab\u003c/a\u003e\n",
        "  \u003c/td\u003e\n",
        "  \u003ctd\u003e\n",
        "    \u003ca target=\"_blank\" href=\"https://github.com/tensorflow/recommenders/blob/main/docs/examples/tpu_embedding_layer.ipynb\"\u003e\u003cimg src=\"https://www.tensorflow.org/images/GitHub-Mark-32px.png\" /\u003eView source on GitHub\u003c/a\u003e\n",
        "  \u003c/td\u003e\n",
        "      \u003ctd\u003e\n",
        "    \u003ca href=\"https://storage.googleapis.com/tensorflow_docs/recommenders/blob/main/docs/examples/tpu_embedding_layer.ipynb\"\u003e\u003cimg src=\"https://www.tensorflow.org/images/download_logo_32px.png\" /\u003eDownload notebook\u003c/a\u003e\n",
        "  \u003c/td\u003e\n",
        "\u003c/table\u003e"
      ]
    },
    {
      "cell_type": "markdown",
      "metadata": {
        "id": "xHxb-dlhMIzW"
      },
      "source": [
        "## Overview\n",
        "\n",
        "This Colab gives a brief introduction into the TPUEmbeddingLayer of TensorFlow 2. \n",
        "\n",
        "The TPUEmbeddingLayer can use the embedding accelerator on the Cloud TPU to speed up embedding lookups when you have many large embedding tables. This is particularly useful when creating recommendation models as these models typically have very large embedding tables.\n",
        "\n",
        "Note: You will need a GCP (Google Compute Engine) account and a GCS (Google Cloud Storage) bucket for this Colab to run.\n",
        "\n",
        "Please follow the [Google Cloud TPU quickstart](https://cloud.google.com/tpu/docs/quickstart) for how to create GCP account and GCS bucket. You have [$300 free credit](https://cloud.google.com/free/) to get started with any GCP product. You can learn more about Cloud TPU at https://cloud.google.com/tpu/docs."
      ]
    },
    {
      "cell_type": "markdown",
      "metadata": {
        "id": "MUXex9ctTuDB"
      },
      "source": [
        "## Setup"
      ]
    },
    {
      "cell_type": "markdown",
      "metadata": {
        "id": "1Eh-iCRVBm0p"
      },
      "source": [
        "Install Tensorflow 2.0 and Tensorflow-Recommenders"
      ]
    },
    {
      "cell_type": "code",
      "execution_count": null,
      "metadata": {
        "id": "rEk-ibQkDNtF"
      },
      "outputs": [],
      "source": [
        "!pip install -U tensorflow-recommenders"
      ]
    },
    {
      "cell_type": "code",
      "execution_count": null,
      "metadata": {
        "id": "IqR2PQG4ZaZ0"
      },
      "outputs": [],
      "source": [
        "import numpy as np\n",
        "import tensorflow as tf\n",
        "import tensorflow_recommenders as tfrs"
      ]
    },
    {
      "cell_type": "markdown",
      "metadata": {
        "id": "l4Av0gMuT9cM"
      },
      "source": [
        "Connect to the TPU node or local TPU and initialize the TPU system.\n",
        "\n"
      ]
    },
    {
      "cell_type": "code",
      "execution_count": null,
      "metadata": {
        "id": "DnS8adqiUIxl"
      },
      "outputs": [],
      "source": [
        "resolver = tf.distribute.cluster_resolver.TPUClusterResolver('').connect('')"
      ]
    },
    {
      "cell_type": "markdown",
      "metadata": {
        "id": "d1d3c1KPoLEC"
      },
      "source": [
        "Create the TPU strategy. Model that needs to run on TPU should be created under TPUStrategy."
      ]
    },
    {
      "cell_type": "code",
      "execution_count": null,
      "metadata": {
        "id": "1KN7A7U_oQvZ"
      },
      "outputs": [],
      "source": [
        "strategy = tf.distribute.TPUStrategy(resolver)"
      ]
    },
    {
      "cell_type": "markdown",
      "metadata": {
        "id": "FfpVE4TcpjyI"
      },
      "source": [
        "You can also check the tpu hardware feature in the TPUStrategy object.\n",
        "\n",
        "For example, you can check which version of embedding feature is supported on this TPU. Check the `tf.tpu.experimental.HardwareFeature` for detailed documentation. "
      ]
    },
    {
      "cell_type": "code",
      "execution_count": null,
      "metadata": {
        "id": "U2Bzh6DRpQXR"
      },
      "outputs": [],
      "source": [
        "embedding_feature = strategy.extended.tpu_hardware_feature.embedding_feature\n",
        "assert embedding_feature == tf.tpu.experimental.HardwareFeature.EmbeddingFeature.V1, 'Make sure that you have the right TPU Hardware'"
      ]
    },
    {
      "cell_type": "markdown",
      "metadata": {
        "id": "kbXNA_dUH2z2"
      },
      "source": [
        "## TPUEmbedding API break down"
      ]
    },
    {
      "cell_type": "markdown",
      "metadata": {
        "id": "yQEg9orXJdy2"
      },
      "source": [
        "### Feature and table configuration"
      ]
    },
    {
      "cell_type": "markdown",
      "metadata": {
        "id": "xlheH8_GOWSQ"
      },
      "source": [
        "When creating an instance of this layer, you must specify:\n",
        "\n",
        "1. The complete set of embedding tables,\n",
        "2. The features you expect to lookup in those tables and\n",
        "3. The optimizer(s) you wish to use on the tables.\n",
        "\n",
        "See the documentation of `tf.tpu.experimental.embedding.TableConfig` and `tf.tpu.experimental.embedding.FeatureConfig` for more details on the complete set of options. We will cover the basic usage here."
      ]
    },
    {
      "cell_type": "markdown",
      "metadata": {
        "id": "tkG1xgmVPKLQ"
      },
      "source": [
        "Multiple FeatureConfig objects can use the same TableConfig object, allowing different features to share the same table:"
      ]
    },
    {
      "cell_type": "code",
      "execution_count": null,
      "metadata": {
        "id": "cLqNl8fGJaTh"
      },
      "outputs": [],
      "source": [
        "table_config_one = tf.tpu.experimental.embedding.TableConfig(\n",
        "    vocabulary_size=8, dim=8)\n",
        "table_config_two = tf.tpu.experimental.embedding.TableConfig(\n",
        "    vocabulary_size=16, dim=4)\n",
        "feature_config = {\n",
        "    'feature_one':\n",
        "        tf.tpu.experimental.embedding.FeatureConfig(table=table_config_one),\n",
        "    'feature_two':\n",
        "        tf.tpu.experimental.embedding.FeatureConfig(table=table_config_one),\n",
        "    'feature_three':\n",
        "        tf.tpu.experimental.embedding.FeatureConfig(table=table_config_two)\n",
        "}"
      ]
    },
    {
      "cell_type": "markdown",
      "metadata": {
        "id": "L3BJOiMYQPzW"
      },
      "source": [
        "### Optimizers"
      ]
    },
    {
      "cell_type": "markdown",
      "metadata": {
        "id": "oVbNemrZQfYu"
      },
      "source": [
        "An optimizer can be globally specified by passing one of the following types of input to the optimizer argument:\n",
        "\n",
        "1. A string, one of 'sgd', 'adagrad' or 'adam', which uses the given optimizer with the default parameters.\n",
        "2. An instance of a Keras optimizer.\n",
        "3. An instance of an optimizer class from the tf.tpu.experimental.embedding module.\n",
        "\n",
        "You may also specify an optimizer at the table level via the optimizer argument of `tf.tpu.experimental.embedding.TableConfig`. This will completely override the global optimizer for this table. For performance reasons it is recommended that you minimize the total number of distinct optimizers."
      ]
    },
    {
      "cell_type": "code",
      "execution_count": null,
      "metadata": {
        "id": "TUjDQlxNPt5S"
      },
      "outputs": [],
      "source": [
        "optimizer=tf.tpu.experimental.embedding.SGD(0.1)"
      ]
    },
    {
      "cell_type": "markdown",
      "metadata": {
        "id": "S0qyySCgTsFc"
      },
      "source": [
        "### Model Creation"
      ]
    },
    {
      "cell_type": "markdown",
      "metadata": {
        "id": "k__tT13pc0rI"
      },
      "source": [
        "Here are two examples of creating a keras model with tpu embedding layer in it. \n",
        "\n",
        "**NOTE**: You can't create two embedding layers on TPU when using the embedding accelerator (EmbeddingFeature.V1 and above). "
      ]
    },
    {
      "cell_type": "markdown",
      "metadata": {
        "id": "ySgbe14Lrc_e"
      },
      "source": [
        "For a functional style Keras model:"
      ]
    },
    {
      "cell_type": "code",
      "execution_count": null,
      "metadata": {
        "id": "_53v9Bx_Tuj7"
      },
      "outputs": [],
      "source": [
        "with strategy.scope():\n",
        "  embedding_inputs = {\n",
        "      'feature_one':\n",
        "          tf.keras.Input(batch_size=1024, shape=(1,), dtype=tf.int32),\n",
        "      'feature_two':\n",
        "          tf.keras.Input(\n",
        "              batch_size=1024, shape=(1,), dtype=tf.int32, ragged=True),\n",
        "      'feature_three':\n",
        "          tf.keras.Input(batch_size=1024, shape=(1,), dtype=tf.int32)\n",
        "  }\n",
        "  # embedding, feature_config and embedding_inputs all have the same nested\n",
        "  # structure.\n",
        "  embedding = tfrs.layers.embedding.TPUEmbedding(\n",
        "      feature_config=feature_config, optimizer=optimizer)(\n",
        "          embedding_inputs)\n",
        "  logits = tf.keras.layers.Dense(1)(\n",
        "      tf.concat(tf.nest.flatten(embedding), axis=1))\n",
        "  model = tf.keras.Model(embedding_inputs, logits)"
      ]
    },
    {
      "cell_type": "markdown",
      "metadata": {
        "id": "JFvu93W1rjIO"
      },
      "source": [
        "For a subclass style model:"
      ]
    },
    {
      "cell_type": "code",
      "execution_count": null,
      "metadata": {
        "id": "9_ix59m9T5Qd"
      },
      "outputs": [],
      "source": [
        "class ModelWithEmbeddings(tf.keras.Model):\n",
        "\n",
        "  def __init__(self):\n",
        "    super(ModelWithEmbeddings, self).__init__()\n",
        "    self.embedding_layer = tfrs.layers.embedding.TPUEmbedding(\n",
        "        feature_config=feature_config, optimizer=optimizer)\n",
        "    self.dense = tf.keras.layers.Dense(1)\n",
        "\n",
        "  def call(self, inputs):\n",
        "    embedding = self.embedding_layer(inputs)\n",
        "    logits = self.dense(tf.concat(tf.nest.flatten(embedding), axis=1))\n",
        "    return logits\n",
        "\n",
        "\n",
        "# Make sure that the tpu is reinitialized when you try to create another mdoel\n",
        "tf.tpu.experimental.initialize_tpu_system(resolver)\n",
        "with strategy.scope():\n",
        "  model = ModelWithEmbeddings()"
      ]
    },
    {
      "cell_type": "code",
      "execution_count": null,
      "metadata": {
        "id": "JWKGIVxrQuyt"
      },
      "outputs": [],
      "source": [
        "tf.tpu.experimental.initialize_tpu_system(resolver)"
      ]
    },
    {
      "cell_type": "markdown",
      "metadata": {
        "id": "wPTXbD-cuHk0"
      },
      "source": [
        "## Simple TPUEmbeddingLayer example "
      ]
    },
    {
      "cell_type": "markdown",
      "metadata": {
        "id": "tm9gOZv3u5vc"
      },
      "source": [
        "In this tutorial, we build a simple ranking model using the MovieLens 100K dataset with TPUEmbeddingLayer. We can use this model to predict ratings based on `user_id` and `movie_id`. "
      ]
    },
    {
      "cell_type": "markdown",
      "metadata": {
        "id": "Hn0WkEPBvKm0"
      },
      "source": [
        "### Install and import tensorflow datasets"
      ]
    },
    {
      "cell_type": "code",
      "execution_count": null,
      "metadata": {
        "id": "5Ve0lmwsvP_U"
      },
      "outputs": [],
      "source": [
        "!pip install -q --upgrade tensorflow-datasets"
      ]
    },
    {
      "cell_type": "code",
      "execution_count": null,
      "metadata": {
        "id": "FSgpqYFRu7aJ"
      },
      "outputs": [],
      "source": [
        "import tensorflow_datasets as tfds"
      ]
    },
    {
      "cell_type": "markdown",
      "metadata": {
        "id": "zmRwhlC8vhZq"
      },
      "source": [
        "### Read the data"
      ]
    },
    {
      "cell_type": "markdown",
      "metadata": {
        "id": "N-i4UpNd-35Z"
      },
      "source": [
        "In order to make the dataset accessible to the Cloud TPU worker. You need to create a gcs bucket and download the dataset to the bucket. Follow this [instructions](https://cloud.google.com/tpu/docs/storage-buckets) to create your gcs bucket."
      ]
    },
    {
      "cell_type": "code",
      "execution_count": null,
      "metadata": {
        "id": "NyzHwDik_y6H"
      },
      "outputs": [],
      "source": [
        "gcs_bucket = 'YOUR_BUCKET'  #@param {type:\"string\"}"
      ]
    },
    {
      "cell_type": "markdown",
      "metadata": {
        "id": "T_sZ245sIrtB"
      },
      "source": [
        "First we fetch the data using tensorflow_dataset. The data that we need is `movie_id`, `user_id` and `user_rating`. \n",
        "\n",
        "Then preprocess the data and convert them to integers."
      ]
    },
    {
      "cell_type": "code",
      "execution_count": null,
      "metadata": {
        "id": "PYL4sPSHvvVM"
      },
      "outputs": [],
      "source": [
        "# Ratings data.\n",
        "ratings = tfds.load(\n",
        "    \"movielens/100k-ratings\", data_dir=gcs_bucket, split=\"train\")\n",
        "\n",
        "# Select the basic features.\n",
        "ratings = ratings.map(\n",
        "    lambda x: {\n",
        "        \"movie_id\": tf.strings.to_number(x[\"movie_id\"]),\n",
        "        \"user_id\": tf.strings.to_number(x[\"user_id\"]),\n",
        "        \"user_rating\": x[\"user_rating\"],\n",
        "    })"
      ]
    },
    {
      "cell_type": "markdown",
      "metadata": {
        "id": "shOkDa1FgcdL"
      },
      "source": [
        "### Prepare the dataset and model"
      ]
    },
    {
      "cell_type": "markdown",
      "metadata": {
        "id": "t9_nYXR4v5C7"
      },
      "source": [
        "Here we define some hyperparameter for the model."
      ]
    },
    {
      "cell_type": "code",
      "execution_count": null,
      "metadata": {
        "id": "6eCkL2AUesu6"
      },
      "outputs": [],
      "source": [
        "per_replica_batch_size = 16\n",
        "movie_vocabulary_size = 2048\n",
        "movie_embedding_size = 64\n",
        "user_vocabulary_size = 2048\n",
        "user_embedding_size = 64"
      ]
    },
    {
      "cell_type": "markdown",
      "metadata": {
        "id": "iUuB9QqeLDfU"
      },
      "source": [
        "We'll split the data by putting 80% of the ratings in the train set, and 20% in the test set."
      ]
    },
    {
      "cell_type": "code",
      "execution_count": null,
      "metadata": {
        "id": "qNxLkQktK1-H"
      },
      "outputs": [],
      "source": [
        "shuffled = ratings.shuffle(100_000, seed=42, reshuffle_each_iteration=False)\n",
        "\n",
        "train = shuffled.take(80_000)\n",
        "test = shuffled.skip(80_000).take(20_000)"
      ]
    },
    {
      "cell_type": "markdown",
      "metadata": {
        "id": "uJHyGTNEJJoI"
      },
      "source": [
        "Batch the dataset and convert it to a distributed dataset."
      ]
    },
    {
      "cell_type": "code",
      "execution_count": null,
      "metadata": {
        "id": "n1QON3D1v1Bp"
      },
      "outputs": [],
      "source": [
        "train_dataset = train.batch(\n",
        "    per_replica_batch_size * strategy.num_replicas_in_sync,\n",
        "    drop_remainder=True).cache()\n",
        "test_dataset = test.batch(\n",
        "    per_replica_batch_size * strategy.num_replicas_in_sync,\n",
        "    drop_remainder=True).cache()"
      ]
    },
    {
      "cell_type": "code",
      "execution_count": null,
      "metadata": {
        "id": "HGx0NON0_MQl"
      },
      "outputs": [],
      "source": [
        "distribute_train_dataset = strategy.experimental_distribute_dataset(\n",
        "    train_dataset,\n",
        "    options=tf.distribute.InputOptions(experimental_fetch_to_device=False))\n",
        "distribute_test_dataset = strategy.experimental_distribute_dataset(\n",
        "    test_dataset,\n",
        "    options=tf.distribute.InputOptions(experimental_fetch_to_device=False))"
      ]
    },
    {
      "cell_type": "markdown",
      "metadata": {
        "id": "uwaQ6griJW-H"
      },
      "source": [
        "Here we create the optimizer, specify the feature and table config. Then we create the model with embedding layer. "
      ]
    },
    {
      "cell_type": "code",
      "execution_count": null,
      "metadata": {
        "id": "8kV9i9q7-mRd"
      },
      "outputs": [],
      "source": [
        "optimizer = tf.keras.optimizers.Adagrad(learning_rate=0.1)\n",
        "\n",
        "user_table = tf.tpu.experimental.embedding.TableConfig(\n",
        "    vocabulary_size=user_vocabulary_size, dim=user_embedding_size)\n",
        "movie_table = tf.tpu.experimental.embedding.TableConfig(\n",
        "    vocabulary_size=movie_vocabulary_size, dim=movie_embedding_size)\n",
        "feature_config = {\n",
        "    \"movie_id\": tf.tpu.experimental.embedding.FeatureConfig(table=movie_table),\n",
        "    \"user_id\": tf.tpu.experimental.embedding.FeatureConfig(table=user_table)\n",
        "}\n",
        "\n",
        "\n",
        "# Define a ranking model with embedding layer.\n",
        "class EmbeddingModel(tfrs.models.Model):\n",
        "\n",
        "  def __init__(self):\n",
        "    super().__init__()\n",
        "\n",
        "    self.embedding_layer = tfrs.layers.embedding.TPUEmbedding(\n",
        "        feature_config=feature_config, optimizer=optimizer)\n",
        "    self.ratings = tf.keras.Sequential([\n",
        "        # Learn multiple dense layers.\n",
        "        tf.keras.layers.Dense(256, activation=\"relu\"),\n",
        "        tf.keras.layers.Dense(64, activation=\"relu\"),\n",
        "        # Make rating predictions in the final layer.\n",
        "        tf.keras.layers.Dense(1)\n",
        "    ])\n",
        "    self.task: tf.keras.layers.Layer = tfrs.tasks.Ranking(\n",
        "        loss=tf.keras.losses.MeanSquaredError(\n",
        "            reduction=tf.keras.losses.Reduction.NONE),\n",
        "        metrics=[tf.keras.metrics.RootMeanSquaredError()])\n",
        "\n",
        "  def compute_loss(self, features, training=False):\n",
        "    embedding = self.embedding_layer({\n",
        "        \"user_id\": features[\"user_id\"],\n",
        "        \"movie_id\": features[\"movie_id\"]\n",
        "    })\n",
        "    rating_predictions = self.ratings(\n",
        "        tf.concat([embedding[\"user_id\"], embedding[\"movie_id\"]], axis=1))\n",
        "\n",
        "    return tf.reduce_sum(\n",
        "        self.task(\n",
        "            labels=features[\"user_rating\"], predictions=rating_predictions)) * (\n",
        "                1 / (per_replica_batch_size * strategy.num_replicas_in_sync))\n",
        "\n",
        "  def call(self, features, serving_config=None):\n",
        "    embedding = self.embedding_layer(\n",
        "        {\n",
        "            \"user_id\": features[\"user_id\"],\n",
        "            \"movie_id\": features[\"movie_id\"]\n",
        "        },\n",
        "        serving_config=serving_config)\n",
        "    return self.ratings(\n",
        "        tf.concat([embedding[\"user_id\"], embedding[\"movie_id\"]], axis=1))"
      ]
    },
    {
      "cell_type": "markdown",
      "metadata": {
        "id": "ojYAbLd-L0LU"
      },
      "source": [
        "Make sure that you initialize the model under TPUStrategy. "
      ]
    },
    {
      "cell_type": "code",
      "execution_count": null,
      "metadata": {
        "id": "1rePm7itLvvN"
      },
      "outputs": [],
      "source": [
        "with strategy.scope():\n",
        "  model = EmbeddingModel()\n",
        "  model.compile(optimizer=optimizer)"
      ]
    },
    {
      "cell_type": "markdown",
      "metadata": {
        "id": "DqbT3zejg1WT"
      },
      "source": [
        "### Train and eval the model"
      ]
    },
    {
      "cell_type": "code",
      "execution_count": null,
      "metadata": {
        "id": "eaULpEhEnxtH"
      },
      "outputs": [],
      "source": [
        "import os"
      ]
    },
    {
      "cell_type": "markdown",
      "metadata": {
        "id": "wgrZ7MYOMJFb"
      },
      "source": [
        "Train the model"
      ]
    },
    {
      "cell_type": "code",
      "execution_count": null,
      "metadata": {
        "id": "uQzSbMAc-XMa"
      },
      "outputs": [],
      "source": [
        "model.fit(distribute_train_dataset, steps_per_epoch=10, epochs=10)"
      ]
    },
    {
      "cell_type": "markdown",
      "metadata": {
        "id": "NoJIMm7wMFcz"
      },
      "source": [
        "Evaluate the model on test dataset"
      ]
    },
    {
      "cell_type": "code",
      "execution_count": null,
      "metadata": {
        "id": "RkPVa0v8PcX1"
      },
      "outputs": [],
      "source": [
        "model.evaluate(distribute_test_dataset, steps=10)"
      ]
    },
    {
      "cell_type": "markdown",
      "metadata": {
        "id": "9iKIz9Q-g7zq"
      },
      "source": [
        "### Save and restore the checkpoint"
      ]
    },
    {
      "cell_type": "markdown",
      "metadata": {
        "id": "9kgfgJyovBxB"
      },
      "source": [
        "You can use a gcs bucket to store your checkpoint. \n",
        "\n",
        "Make sure that you give the tpu worker access to the bucket by following the [instructions](https://cloud.google.com/tpu/docs/storage-buckets)."
      ]
    },
    {
      "cell_type": "code",
      "execution_count": null,
      "metadata": {
        "id": "Zh4X0cB7vAeB"
      },
      "outputs": [],
      "source": [
        "model_dir = os.path.join(gcs_bucket, \"saved_model\")"
      ]
    },
    {
      "cell_type": "markdown",
      "metadata": {
        "id": "EllhvC2t_3_Q"
      },
      "source": [
        "Create the checkpoint for the TPU model and save the model to the bucket.\n"
      ]
    },
    {
      "cell_type": "code",
      "execution_count": null,
      "metadata": {
        "id": "Cy3D16YKs39a"
      },
      "outputs": [],
      "source": [
        "checkpoint = tf.train.Checkpoint(optimizer=optimizer, model=model)\n",
        "saved_tpu_model_path = checkpoint.save(os.path.join(model_dir, \"ckpt\"))"
      ]
    },
    {
      "cell_type": "markdown",
      "metadata": {
        "id": "Q_5oyoKTAKlQ"
      },
      "source": [
        "You can list the variables that gets stored in that path."
      ]
    },
    {
      "cell_type": "code",
      "execution_count": null,
      "metadata": {
        "id": "MO3-k0vEs430"
      },
      "outputs": [],
      "source": [
        "tf.train.list_variables(saved_tpu_model_path)"
      ]
    },
    {
      "cell_type": "markdown",
      "metadata": {
        "id": "jy37ojRqASzf"
      },
      "source": [
        "You can restore the checkpoint later. This is a common practice to checkpoint your model for every epoch and restore that afterwards. "
      ]
    },
    {
      "cell_type": "code",
      "execution_count": null,
      "metadata": {
        "id": "lpuEFC4ftSEZ"
      },
      "outputs": [],
      "source": [
        "with strategy.scope():\n",
        "  checkpoint.restore(saved_tpu_model_path)"
      ]
    },
    {
      "cell_type": "markdown",
      "metadata": {
        "id": "dlAuXHvtAf93"
      },
      "source": [
        "Addtionally you can create a cpu model and restore the weights that gets trained on TPU."
      ]
    },
    {
      "cell_type": "code",
      "execution_count": null,
      "metadata": {
        "id": "SuKjhxuzt8pE"
      },
      "outputs": [],
      "source": [
        "cpu_model = EmbeddingModel()\n",
        "\n",
        "# Create the cpu checkpoint and restore the tpu checkpoint.\n",
        "cpu_checkpoint = tf.train.Checkpoint(optimizer=optimizer, model=cpu_model)\n",
        "cpu_checkpoint.restore(saved_tpu_model_path)"
      ]
    },
    {
      "cell_type": "markdown",
      "metadata": {
        "id": "N4VmtDxTCdat"
      },
      "source": [
        "You can also restore embedding weights partially."
      ]
    },
    {
      "cell_type": "code",
      "execution_count": null,
      "metadata": {
        "id": "jwBuRXIKCmqd"
      },
      "outputs": [],
      "source": [
        "embedding_checkpoint = tf.train.Checkpoint(embedding=model.embedding_layer)\n",
        "saved_embedding_path = embedding_checkpoint.save(\n",
        "    os.path.join(model_dir, 'tpu-embedding'))"
      ]
    },
    {
      "cell_type": "code",
      "execution_count": null,
      "metadata": {
        "id": "D_8La-5XDJ3Y"
      },
      "outputs": [],
      "source": [
        "# Restore the embedding parameters on cpu model.\n",
        "cpu_embedding_checkpoint = tf.train.Checkpoint(\n",
        "    embeddign=cpu_model.embedding_layer)\n",
        "cpu_embedding_checkpoint.restore(saved_embedding_path)"
      ]
    },
    {
      "cell_type": "code",
      "execution_count": null,
      "metadata": {
        "id": "TaQlUL2RQHHZ"
      },
      "outputs": [],
      "source": [
        "# Save the embedding parameters on cpu model and restore it to the tpu model.\n",
        "saved_cpu_embedding_path = embedding_checkpoint.save(\n",
        "    os.path.join(model_dir, 'cpu-embedding'))\n",
        "with strategy.scope():\n",
        "  embedding_checkpoint.restore(saved_cpu_embedding_path)"
      ]
    },
    {
      "cell_type": "markdown",
      "metadata": {
        "id": "7HFzfTP-CV29"
      },
      "source": [
        "### Serving"
      ]
    },
    {
      "cell_type": "markdown",
      "metadata": {
        "id": "EuAnDhn8F4kr"
      },
      "source": [
        "Finally, You can use the exported cpu model to do serving. Serving is\n",
        "accomplished through the `tf.saved_model` API"
      ]
    },
    {
      "cell_type": "markdown",
      "metadata": {
        "id": "AO2JYrJfH6eB"
      },
      "source": [
        "**Note**: It is important that the input_signature is specified here so that the\n",
        "exported graph has the correct shapes and types. Moreover the function should be\n",
        "a new, untraced function, to allow tf.saved_model.save to make a fresh trace of\n",
        "the function."
      ]
    },
    {
      "cell_type": "code",
      "execution_count": null,
      "metadata": {
        "id": "bbhyRI-M4VSm"
      },
      "outputs": [],
      "source": [
        "@tf.function\n",
        "def serve_tensors(features):\n",
        "  return cpu_model(features)\n",
        "\n",
        "\n",
        "signatures = {\n",
        "    'serving':\n",
        "        serve_tensors.get_concrete_function(\n",
        "            features={\n",
        "                'movie_id':\n",
        "                    tf.TensorSpec(shape=(1,), dtype=tf.int32, name='movie_id'),\n",
        "                'user_id':\n",
        "                    tf.TensorSpec(shape=(1,), dtype=tf.int32, name='user_id'),\n",
        "            }),\n",
        "}\n",
        "tf.saved_model.save(\n",
        "    cpu_model,\n",
        "    export_dir=os.path.join(model_dir, 'exported_model'),\n",
        "    signatures=signatures)"
      ]
    },
    {
      "cell_type": "markdown",
      "metadata": {
        "id": "nU9Ko8NaIBTw"
      },
      "source": [
        "The exported model can now be loaded (in python or c) and used for serving"
      ]
    },
    {
      "cell_type": "code",
      "execution_count": null,
      "metadata": {
        "id": "zkzuJ2i43CTL"
      },
      "outputs": [],
      "source": [
        "imported = tf.saved_model.load(os.path.join(model_dir, 'exported_model'))\n",
        "predict_fn = imported.signatures['serving']\n",
        "\n",
        "# Dummy serving data.\n",
        "input_batch = {\n",
        "    'movie_id': tf.constant(np.array([100]), dtype=tf.int32),\n",
        "    'user_id': tf.constant(np.array([30]), dtype=tf.int32)\n",
        "}\n",
        "# The prediction it generates.\n",
        "prediction = predict_fn(**input_batch)['output_0']"
      ]
    },
    {
      "cell_type": "markdown",
      "metadata": {
        "id": "e0a9ZsIQW6I3"
      },
      "source": [
        "Additionally, you can pass the serving config to do serving. \n",
        "\n",
        "Note that: You can use a subset of the trained embedding tables to do serving by using a serving config. "
      ]
    },
    {
      "cell_type": "code",
      "execution_count": null,
      "metadata": {
        "id": "BdUfeXXaW3UU"
      },
      "outputs": [],
      "source": [
        "serving_config = {\n",
        "    'movie_id': tf.tpu.experimental.embedding.FeatureConfig(table=movie_table),\n",
        "    'user_id': tf.tpu.experimental.embedding.FeatureConfig(table=user_table)\n",
        "}"
      ]
    },
    {
      "cell_type": "code",
      "execution_count": null,
      "metadata": {
        "id": "XvR1onYQYvu5"
      },
      "outputs": [],
      "source": [
        "prediction = cpu_model(input_batch, serving_config=serving_config)"
      ]
    }
  ],
  "metadata": {
    "accelerator": "TPU",
    "colab": {
      "collapsed_sections": [],
      "name": "tpu_embedding_layer.ipynb",
      "private_outputs": true,
      "provenance": [],
      "toc_visible": true
    },
    "kernelspec": {
      "display_name": "Python 3",
      "name": "python3"
    }
  },
  "nbformat": 4,
  "nbformat_minor": 0
}
